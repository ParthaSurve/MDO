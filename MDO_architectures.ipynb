{
 "cells": [
  {
   "cell_type": "markdown",
   "metadata": {},
   "source": [
    "SELLAR'S PROBLEM \n",
    "----------------\n",
    "This is a coupled disciplinary problem in OpenMDAO and has two disciplines. The problem can be stated as follows:\n",
    "\n",
    "minimize  $x_1^2 +z_2 + y_1 + e^{-y_2}$\n",
    "\n",
    "w.r.t :   $z_1 , z_2 , x_1$\n",
    "\n",
    "subject to : $\\frac{y_1}{3.16} - 1 \\geq 0 $\n",
    "\n",
    "$1-\\frac{y_2}{24} \\geq 0 $\n",
    "\n",
    "$ -10 \\leq z_1 \\leq 10 $\n",
    "\n",
    "$   0 \\leq z_2 \\leq 10 $\n",
    "\n",
    "$   0 \\leq x_1 \\leq 10 $\n",
    "\n",
    "\n",
    "Discipline 1 : $y_1 (z_1,z_2,x_1,y_2) = z_1 ^2 + x_1 + z_2 - 0.2y_2$ \n",
    "\n",
    "Discipline 2 : $y_2 (z_1,z_2,y_1) = \\sqrt{y_1} + z_1  +  z_2 $ \n",
    "\n",
    "\n",
    "$z_1$ and $ z_2 $ are the global design variables while $x_1$ is a local design variable. $y_1$ and $y_2$ are coupling variables between then two disciplines.\n",
    "\n",
    "This coupling creates a non-linear system of equations which must be satisfied for valid solutions.\n",
    "\n",
    "TYPES OF MDO ARCHITECTURES\n",
    "------------------------\n",
    "\n",
    " +   Multidisciplinary Design Feasible (MDF)\n",
    " \n",
    " In this architecture the disciplines are directly coupled via some kind of solver, and the design variables are optimized all at the top level.\n",
    "<img src=\"files/Arch-MDF.png\">\n",
    "\n",
    "\n",
    " + Individual Design Feasible (IDF)\n",
    "  \n",
    "  In IDF, the direct coupling between the disciplines is removed, and the input coupling variables are added to the optimizer’s design variables. The algorithm calls for two new equality constraints that enforce the coupling between the disciplines.\n",
    "  \n",
    "  <img src=\"files/Arch-IDF.png\">\n",
    "  \n",
    "  \n",
    "  + Collaborative Optimization (CO)\n",
    "  \n",
    "  CO is a two-level architecture with three optimizer loops, one at each discipline, and one acting globally. The global optimizer drives the design and coupling variables towards an optimal solution that minimizes the objective while constraining to zero the sum of the squares of the residuals between the values commanded by the global optimizer and those set by the local optimizers. Each local optimizer operates on its own discipline, driving its design variables while minimizing the residual between the actual value of the design variables and the values commanded by the global optimizer.\n",
    "  \n",
    "  <img src=\"files/Arch-CO.png\">\n",
    "  \n",
    "  \n",
    "  \n",
    "  "
   ]
  },
  {
   "cell_type": "code",
   "execution_count": null,
   "metadata": {
    "collapsed": true
   },
   "outputs": [],
   "source": []
  }
 ],
 "metadata": {
  "kernelspec": {
   "display_name": "Python 2",
   "language": "python",
   "name": "python2"
  },
  "language_info": {
   "codemirror_mode": {
    "name": "ipython",
    "version": 2
   },
   "file_extension": ".py",
   "mimetype": "text/x-python",
   "name": "python",
   "nbconvert_exporter": "python",
   "pygments_lexer": "ipython2",
   "version": "2.7.12"
  }
 },
 "nbformat": 4,
 "nbformat_minor": 2
}
