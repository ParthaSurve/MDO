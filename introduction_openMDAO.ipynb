{
 "cells": [
  {
   "cell_type": "markdown",
   "metadata": {},
   "source": [
    "INTRODUCTION TO openMDAO\n",
    "========================="
   ]
  },
  {
   "cell_type": "markdown",
   "metadata": {},
   "source": [
    "[openMDAO](http://www.openmdao.org) (Multidisciplinary Design Analysis and Optimization) is an open-source high-performance computing platform for systems analysis and multidisciplinary optimization, written in Python.\n",
    "\n",
    "It was developed by NASA Glenn research center to overcome the growing need to solve large-scale design optimizations to study unconventional aerospace concepts.\n",
    "\n",
    "It works with both gradient-free and gradient based algorithms and specializes in automatic analytic multidisciplinary derivatives, which can be used to compute system-level gradients for Newton solvers and/or gradient-based optimizers. \n",
    "\n",
    "The optimizers currently availible in openMDAO\n",
    "\n",
    "ADD LINKS TO THE ORIGINAL OPTIMISER PAGES.\n",
    "\n",
    "Optimizer   | Gradients| Inequality Constraints| Equality Constraints|Algorithm\n",
    "------------|----------|-----------------------|---------------------|---------\n",
    "COBYLA      | None     | YES                   |NO                   |Constrained Optimization BY Linear Approximation of the objective and constraint functions via linear interpolation\n",
    "CONMIN|Computed by OpenMDAO or CONMIN|YES|NO|CONstrained function MINimization. Implements the Method of Feasible Directions to solve the NLP problem\n",
    "Genetic|Computed by OpenMDAO or NEWSUMT|NO|NO|General genetic algorithm framework based on PyEvolve\n",
    "NEWSUMT|Computed by OpenMDAO or NEWSUMT|YES|NO|Newton’s method Sequence of Unconstrained Minimizations\n",
    "SLSQP|Computed by OpenMDAO|YES|YES|Sequential Least Squares Programming"
   ]
  },
  {
   "cell_type": "markdown",
   "metadata": {},
   "source": [
    "\n",
    "REQUIREMENTS\n",
    "-----------\n",
    "\n",
    "+ Python (2.7.5 or higher)\n",
    "+ NumPy (version 1.6 or higher)\n",
    "+ SciPy (version 0.11 or higher)\n",
    "+ Matplotlib\n",
    "\n",
    "Supported Platforms  - Windows OS, Mac OS X, linux"
   ]
  },
  {
   "cell_type": "markdown",
   "metadata": {
    "collapsed": true
   },
   "source": []
  },
  {
   "cell_type": "code",
   "execution_count": null,
   "metadata": {
    "collapsed": true
   },
   "outputs": [],
   "source": []
  },
  {
   "cell_type": "code",
   "execution_count": null,
   "metadata": {
    "collapsed": true
   },
   "outputs": [],
   "source": []
  }
 ],
 "metadata": {
  "kernelspec": {
   "display_name": "Python 2",
   "language": "python",
   "name": "python2"
  },
  "language_info": {
   "codemirror_mode": {
    "name": "ipython",
    "version": 2
   },
   "file_extension": ".py",
   "mimetype": "text/x-python",
   "name": "python",
   "nbconvert_exporter": "python",
   "pygments_lexer": "ipython2",
   "version": "2.7.12"
  }
 },
 "nbformat": 4,
 "nbformat_minor": 2
}
